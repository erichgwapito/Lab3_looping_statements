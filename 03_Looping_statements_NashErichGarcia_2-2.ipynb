{
 "cells": [
  {
   "cell_type": "code",
   "execution_count": 3,
   "metadata": {},
   "outputs": [
    {
     "name": "stdout",
     "output_type": "stream",
     "text": [
      "128\n"
     ]
    }
   ],
   "source": [
    "def power(base, exponent): \n",
    "    if exponent == 0:\n",
    "        return 1\n",
    "    else:\n",
    "        return base * power(base, exponent - 1)\n",
    "\n",
    "result = power(2, 7)\n",
    "print(result) "
   ]
  },
  {
   "cell_type": "code",
   "execution_count": 1,
   "metadata": {},
   "outputs": [
    {
     "name": "stdout",
     "output_type": "stream",
     "text": [
      "Cubes of the elements:\n",
      "1000\n"
     ]
    }
   ],
   "source": [
    "size = int(input(\"Enter the size of the array: \"))\n",
    "\n",
    "elements = list(map(int, input(\"Enter the elements separated by space: \").split()))\n",
    "\n",
    "print(\"Cubes of the elements:\")\n",
    "for num in elements:\n",
    "    print(num ** 3)"
   ]
  },
  {
   "cell_type": "code",
   "execution_count": 2,
   "metadata": {},
   "outputs": [
    {
     "name": "stdout",
     "output_type": "stream",
     "text": [
      "xxxxx\n",
      "x   x\n",
      "x   x\n",
      "x   x\n",
      "xxxxx\n"
     ]
    }
   ],
   "source": [
    "n = int(input(\"Enter the side length of the square: \"))\n",
    "\n",
    "for i in range(n):\n",
    "    if i == 0 or i == n - 1:\n",
    "        print('x' * n)\n",
    "    else:\n",
    "        print('x' + ' ' * (n - 2) + 'x')"
   ]
  },
  {
   "cell_type": "code",
   "execution_count": 1,
   "metadata": {},
   "outputs": [
    {
     "name": "stdout",
     "output_type": "stream",
     "text": [
      "*****\n",
      "****\n",
      "***\n",
      "**\n",
      "*\n"
     ]
    }
   ],
   "source": [
    "n = int(input(\"Enter the height of the triangle: \"))\n",
    "\n",
    "# Step 2: Generate and display the inverted right triangle pattern\n",
    "for i in range(n, 0, -1):\n",
    "    print('*' * i)"
   ]
  }
 ],
 "metadata": {
  "kernelspec": {
   "display_name": "Python 3",
   "language": "python",
   "name": "python3"
  },
  "language_info": {
   "codemirror_mode": {
    "name": "ipython",
    "version": 3
   },
   "file_extension": ".py",
   "mimetype": "text/x-python",
   "name": "python",
   "nbconvert_exporter": "python",
   "pygments_lexer": "ipython3",
   "version": "3.12.1"
  }
 },
 "nbformat": 4,
 "nbformat_minor": 2
}
